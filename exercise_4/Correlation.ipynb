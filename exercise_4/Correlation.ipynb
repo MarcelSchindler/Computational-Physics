{
 "cells": [
  {
   "cell_type": "code",
   "execution_count": 1,
   "metadata": {},
   "outputs": [
    {
     "name": "stdout",
     "output_type": "stream",
     "text": [
      "3.8.6 (tags/v3.8.6:db45529, Sep 23 2020, 15:52:53) [MSC v.1927 64 bit (AMD64)]\n"
     ]
    }
   ],
   "source": [
    "import pylab as plt\n",
    "import sys\n",
    "import pandas as pd\n",
    "import numpy as np\n",
    "import math as m\n",
    "\n",
    "print(sys.version)"
   ]
  },
  {
   "cell_type": "code",
   "execution_count": 2,
   "metadata": {},
   "outputs": [],
   "source": [
    "filein=open(\"correlation.dat\", \"r\")\n",
    "xin=[]\n",
    "yin=[]\n",
    "\n",
    "\n",
    "for line in filein:\n",
    "    data=line.split()\n",
    "    xin.append(float(data[0]))\n",
    "    yin.append(float(data[1]))    \n",
    "filein.close()"
   ]
  },
  {
   "cell_type": "code",
   "execution_count": 3,
   "metadata": {},
   "outputs": [
    {
     "data": {
      "image/png": "[encoded data removed]",
      "text/plain": [
       "<Figure size 432x288 with 1 Axes>"
      ]
     },
     "metadata": {
      "needs_background": "light"
     },
     "output_type": "display_data"
    }
   ],
   "source": [
    "plt.xlim(0,100)\n",
    "plt.scatter(xin,yin, label=r\"Autocorrelation\")\n",
    "plt.xlabel(r'$\\tau$')\n",
    "plt.ylabel(r'$C(\\tau)$')\n",
    "plt.legend()\n",
    "plt.savefig('autokorrelation')"
   ]
  }
 ],
 "metadata": {
  "kernelspec": {
   "display_name": "Python 3",
   "language": "python",
   "name": "python3"
  },
  "language_info": {
   "codemirror_mode": {
    "name": "ipython",
    "version": 3
   },
   "file_extension": ".py",
   "mimetype": "text/x-python",
   "name": "python",
   "nbconvert_exporter": "python",
   "pygments_lexer": "ipython3",
   "version": "3.8.6"
  }
 },
 "nbformat": 4,
 "nbformat_minor": 4
}
