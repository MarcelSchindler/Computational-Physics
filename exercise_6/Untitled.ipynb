{
 "cells": [
  {
   "cell_type": "code",
   "execution_count": 1,
   "metadata": {},
   "outputs": [
    {
     "name": "stdout",
     "output_type": "stream",
     "text": [
      "0.01732833551285889\n"
     ]
    },
    {
     "data": {
      "image/png": "[encoded data removed]",
      "text/plain": [
       "<Figure size 432x288 with 1 Axes>"
      ]
     },
     "metadata": {
      "needs_background": "light"
     },
     "output_type": "display_data"
    }
   ],
   "source": [
    "import numpy as np \n",
    "from numpy.polynomial.legendre import leggauss\n",
    "from scipy.special import sph_harm\n",
    "from scipy.interpolate import interp1d\n",
    "import pylab as plt\n",
    "import sys\n",
    "import pandas as pd\n",
    "import math as m\n",
    "\n",
    "\n",
    "def formfaktor(q,l,lz,wf,pgrid,weights):\n",
    "        mred=938.92/2\n",
    "        hbarc=197.327\n",
    "        e0=-2.225/hbarc\n",
    "        neigv=1  \n",
    "        formfaktor=0\n",
    "        for i in range(60):\n",
    "            x_integral=0\n",
    "            x_grid=200\n",
    "            for j in range(x_grid):\n",
    "                x=-1+2*j/(x_grid-1)\n",
    "                delta_x=1/(x_grid-1)\n",
    "                px=pgrid[i]*np.sqrt(1-x*x)\n",
    "                pz=pgrid[i]*x\n",
    "                p_angle=np.arccos(pz/pgrid[i])\n",
    "                mixterm_absolut=np.sqrt(px**2+(pz-0.5*q)**2)\n",
    "                mixterm_angle=np.arccos((pz-0.5*q)/mixterm_absolut)\n",
    "                spherical_p=sph_harm(l, lz, p_angle, 0).real\n",
    "                spherical_mixedterm=sph_harm(l, lz, mixterm_angle, 0).real\n",
    "                wf_p=wf[i]\n",
    "                for k in range(60):\n",
    "                    if(pgrid[k]>mixterm_absolut):\n",
    "                        difference=pgrid[k]-mixterm_absolut\n",
    "                        percent_difference=1-difference/(pgrid[k]-pgrid[k-1])\n",
    "                        #print(percent_difference,i,j,q)\n",
    "                        wf_mixterm=wf[k-1]+percent_difference*(wf[k]-wf[k-1])\n",
    "                        break\n",
    "                        \n",
    "                \n",
    "                x_integral+=wf_p*wf_mixterm*spherical_p*spherical_mixedterm*delta_x\n",
    "            formfaktor+=2*np.pi*pgrid[i]**2*x_integral*weights[i]\n",
    "        return formfaktor\n",
    "        \n",
    "        \n",
    "\n",
    "filein=open(\"wf-obe-lam=1200.00.dat\", \"r\")\n",
    "pgrid=[]\n",
    "wf=[]\n",
    "weights=[]\n",
    "\n",
    "\n",
    "for line in filein:\n",
    "    data=line.split()\n",
    "    wf.append(float(data[2]))\n",
    "    weights.append(float(data[1]))\n",
    "    pgrid.append(float(data[0]))\n",
    "\n",
    "filein.close()\n",
    "q=[]\n",
    "form=[]\n",
    "for i in range(1,11):\n",
    "    q.append(i/10)\n",
    "    form.append(formfaktor(q[i-1],0,0,wf,pgrid,weights))\n",
    "print(formfaktor(4,0,0,wf,pgrid,weights))\n",
    "\n",
    "\n",
    "plt.scatter(q,form, label=r\"Formfaktor\")\n",
    "plt.xlabel(r'$|q|$ in $fm^{-1}$')\n",
    "plt.ylabel(r'$F(q^2)$')\n",
    "plt.legend()\n",
    "plt.savefig('problem4.png')"
   ]
  }
 ],
 "metadata": {
  "kernelspec": {
   "display_name": "Python 3",
   "language": "python",
   "name": "python3"
  },
  "language_info": {
   "codemirror_mode": {
    "name": "ipython",
    "version": 3
   },
   "file_extension": ".py",
   "mimetype": "text/x-python",
   "name": "python",
   "nbconvert_exporter": "python",
   "pygments_lexer": "ipython3",
   "version": "3.8.6"
  }
 },
 "nbformat": 4,
 "nbformat_minor": 4
}
