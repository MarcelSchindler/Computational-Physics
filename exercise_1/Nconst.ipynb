{
 "cells": [
  {
   "cell_type": "code",
   "execution_count": 1,
   "metadata": {},
   "outputs": [
    {
     "name": "stdout",
     "output_type": "stream",
     "text": [
      "3.7.0 (default, Aug 14 2018, 19:12:50) [MSC v.1900 32 bit (Intel)]\n"
     ]
    }
   ],
   "source": [
    "import pylab as plt\n",
    "import sys\n",
    "import pandas as pd\n",
    "import numpy as np\n",
    "import math as m\n",
    "\n",
    "print(sys.version)"
   ]
  },
  {
   "cell_type": "code",
   "execution_count": 2,
   "metadata": {},
   "outputs": [],
   "source": [
    "filein=open(\"Nconst.dat\", \"r\")\n",
    "xin=[]\n",
    "yin=[]\n",
    "y2in=[]\n",
    "for line in filein:\n",
    "    data=line.split()\n",
    "    xin.append(float(data[0]))\n",
    "    yin.append(float(data[1]))\n",
    "    y2in.append(float(data[2]))\n",
    "filein.close()"
   ]
  },
  {
   "cell_type": "code",
   "execution_count": 3,
   "metadata": {},
   "outputs": [
    {
     "ename": "SyntaxError",
     "evalue": "invalid syntax (<ipython-input-3-ab3308ea5c6e>, line 1)",
     "output_type": "error",
     "traceback": [
      "\u001b[1;36m  File \u001b[1;32m\"<ipython-input-3-ab3308ea5c6e>\"\u001b[1;36m, line \u001b[1;32m1\u001b[0m\n\u001b[1;33m    plt.plot(xin,yin,'m', linewidth=4 label=r\"numeric\")\u001b[0m\n\u001b[1;37m                                          ^\u001b[0m\n\u001b[1;31mSyntaxError\u001b[0m\u001b[1;31m:\u001b[0m invalid syntax\n"
     ]
    }
   ],
   "source": [
    "plt.plot(xin,yin,'m', linewidth=4, label=r\"numeric\")\n",
    "plt.plot(xin,y2in,'c',linewidth=1.5, label=r\"analytic\")\n",
    "plt.xlabel(r'h')\n",
    "plt.ylabel(r'<m>')\n",
    "plt.legend()\n",
    "plt.savefig('Nconst')"
   ]
  },
  {
   "cell_type": "code",
   "execution_count": null,
   "metadata": {},
   "outputs": [],
   "source": [
    "plt.plot(xin,y2in,label=r\"analytic\")\n",
    "plt.xlabel(r'h')\n",
    "plt.ylabel(r'<m>')\n",
    "plt.legend()\n",
    "plt.savefig('Nconst')"
   ]
  },
  {
   "cell_type": "code",
   "execution_count": null,
   "metadata": {},
   "outputs": [],
   "source": []
  }
 ],
 "metadata": {
  "kernelspec": {
   "display_name": "Python 3",
   "language": "python",
   "name": "python3"
  },
  "language_info": {
   "codemirror_mode": {
    "name": "ipython",
    "version": 3
   },
   "file_extension": ".py",
   "mimetype": "text/x-python",
   "name": "python",
   "nbconvert_exporter": "python",
   "pygments_lexer": "ipython3",
   "version": "3.7.0"
  }
 },
 "nbformat": 4,
 "nbformat_minor": 2
}
