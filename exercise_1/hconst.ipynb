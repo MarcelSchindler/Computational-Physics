{
 "cells": [
  {
   "cell_type": "code",
   "execution_count": 1,
   "metadata": {},
   "outputs": [
    {
     "name": "stdout",
     "output_type": "stream",
     "text": [
      "3.7.0 (default, Aug 14 2018, 19:12:50) [MSC v.1900 32 bit (Intel)]\n"
     ]
    }
   ],
   "source": [
    "import pylab as plt\n",
    "import sys\n",
    "import pandas as pd\n",
    "import numpy as np\n",
    "import math as m\n",
    "\n",
    "print(sys.version)"
   ]
  },
  {
   "cell_type": "code",
   "execution_count": 2,
   "metadata": {},
   "outputs": [],
   "source": [
    "filein=open(\"hconst.dat\", \"r\")\n",
    "xin=[]\n",
    "yerrin=[]\n",
    "yin=[]\n",
    "y2in=[]\n",
    "for line in filein:\n",
    "    data=line.split()\n",
    "    xin.append(float(data[0]))\n",
    "    yin.append(float(data[1]))\n",
    "    yerrin.append(float(data[2]))\n",
    "    y2in.append(float(data[3]))\n",
    "filein.close()"
   ]
  },
  {
   "cell_type": "code",
   "execution_count": 3,
   "metadata": {
    "scrolled": true
   },
   "outputs": [
    {
     "data": {
      "image/png": "[encoded data removed]",
      "text/plain": [
       "<Figure size 432x288 with 1 Axes>"
      ]
     },
     "metadata": {
      "needs_background": "light"
     },
     "output_type": "display_data"
    }
   ],
   "source": [
    "plt.plot(xin,yin,label=r\"numeric\")\n",
    "plt.errorbar(xin, yin , xerr=0, yerr=yerrin,fmt='o', ecolor='g')\n",
    "plt.plot(xin,y2in,label=r\"analytic\")\n",
    "plt.xlabel(r'N')\n",
    "plt.ylabel(r'<m> in a.u.')\n",
    "plt.legend()\n",
    "plt.savefig('hconst')"
   ]
  },
  {
   "cell_type": "code",
   "execution_count": null,
   "metadata": {},
   "outputs": [],
   "source": []
  }
 ],
 "metadata": {
  "kernelspec": {
   "display_name": "Python 3",
   "language": "python",
   "name": "python3"
  },
  "language_info": {
   "codemirror_mode": {
    "name": "ipython",
    "version": 3
   },
   "file_extension": ".py",
   "mimetype": "text/x-python",
   "name": "python",
   "nbconvert_exporter": "python",
   "pygments_lexer": "ipython3",
   "version": "3.7.0"
  }
 },
 "nbformat": 4,
 "nbformat_minor": 2
}
